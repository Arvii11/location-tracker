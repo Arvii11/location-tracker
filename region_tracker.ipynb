{
  "nbformat": 4,
  "nbformat_minor": 0,
  "metadata": {
    "colab": {
      "provenance": []
    },
    "kernelspec": {
      "name": "python3",
      "display_name": "Python 3"
    },
    "language_info": {
      "name": "python"
    }
  },
  "cells": [
    {
      "cell_type": "code",
      "execution_count": 24,
      "metadata": {
        "colab": {
          "base_uri": "https://localhost:8080/"
        },
        "id": "wpxj-_G-pMXL",
        "outputId": "624363fd-d6e8-4e7d-acf0-ee2c8f735c3f"
      },
      "outputs": [
        {
          "output_type": "stream",
          "name": "stdout",
          "text": [
            "Requirement already satisfied: phonenumbers in /usr/local/lib/python3.10/dist-packages (8.13.39)\n"
          ]
        }
      ],
      "source": [
        "!pip install phonenumbers\n",
        "import phonenumbers\n",
        "from phonenumbers import geocoder"
      ]
    },
    {
      "cell_type": "code",
      "source": [
        "phone_number = \"+16476734715\"\n",
        "\n",
        "parsed_number = phonenumbers.parse(phone_number, None)\n",
        "\n",
        "country = geocoder.description_for_number(parsed_number, 'en')\n",
        "print(\"Region:\", country)"
      ],
      "metadata": {
        "colab": {
          "base_uri": "https://localhost:8080/"
        },
        "id": "goQWt4ExqBz6",
        "outputId": "07008597-51c5-4399-f4de-00d32774c2fb"
      },
      "execution_count": 23,
      "outputs": [
        {
          "output_type": "stream",
          "name": "stdout",
          "text": [
            "Country: Ontario\n"
          ]
        }
      ]
    }
  ]
}